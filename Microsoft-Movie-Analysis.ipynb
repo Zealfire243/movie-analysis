{
 "cells": [
  {
   "cell_type": "markdown",
   "metadata": {},
   "source": [
    "![example](images/director_shot.jpeg)"
   ]
  },
  {
   "cell_type": "markdown",
   "metadata": {},
   "source": [
    "# Microsoft Movie Analysis\n",
    "\n",
    "**Author:** Ethan Helder\n",
    "***"
   ]
  },
  {
   "cell_type": "markdown",
   "metadata": {},
   "source": [
    "# Outline\n",
    "#### -Business Problem\n",
    "#### -Data Understanding\n",
    "#### -Data Preperation\n",
    "#### -Data Modeling\n",
    "#### -Evaluation\n",
    "#### -Conclusion"
   ]
  },
  {
   "cell_type": "markdown",
   "metadata": {},
   "source": [
    "## Overview\n",
    "\n",
    "    Microsoft sees all the big companies creating original video content and they want to get in on the fun. They have decided to create a new movie studio, but they don’t know anything about creating movies. Using data recieved from movie review websites I descibe trends in amount grossed compared to different varibles in order to accuartely descibe how to make money in the movie industry.\n"
   ]
  },
  {
   "cell_type": "markdown",
   "metadata": {},
   "source": [
    "## Business Problem\n",
    "\n",
    "\n",
    "***\n",
    "Microsoft wants to get into the movie industry but doesnt know what to do in order to make money from it. I wanted to find out exactly what qualities allowed for a movie to make money so that I can approprietly advise what to do.\n",
    "***"
   ]
  },
  {
   "cell_type": "code",
   "execution_count": 1,
   "metadata": {},
   "outputs": [],
   "source": [
    "# Import standard packages\n",
    "import numpy as np\n",
    "import pandas as pd\n",
    "import matplotlib.pyplot as plt\n",
    "import seaborn as sns\n",
    "from bs4 import BeautifulSoup\n",
    "import requests\n",
    "\n",
    "%matplotlib inline"
   ]
  },
  {
   "cell_type": "markdown",
   "metadata": {},
   "source": [
    "## Data Understanding\n",
    "\n",
    "***\n",
    "I recieved this data from movie review sites such as IMDB. The data represents individual movies; how much they made, what ratings they got, what genre they are from, length of movie runtime.\n",
    "***"
   ]
  },
  {
   "cell_type": "markdown",
   "metadata": {},
   "source": [
    "Asigns data to individual dataframes. They are movie_gross, title_basics, and title_ratings."
   ]
  },
  {
   "cell_type": "code",
   "execution_count": 2,
   "metadata": {},
   "outputs": [],
   "source": [
    "movie_gross = pd.read_csv('''data/zippedData/bom.movie_gross.csv.gz''')\n",
    "title_basics = pd.read_csv('''data/zippedData/imdb.title.basics.csv.gz''')\n",
    "title_ratings = pd.read_csv('''data/zippedData/imdb.title.ratings.csv.gz''')"
   ]
  },
  {
   "cell_type": "markdown",
   "metadata": {},
   "source": [
    "## Data Preparation\n",
    "\n",
    "***\n",
    "I removed the outliers and missing values while totaling the amount grossed for each movie. Doing so allowed to correctly graph my findings and predict how a movie might perform.\n",
    "***"
   ]
  },
  {
   "cell_type": "markdown",
   "metadata": {},
   "source": [
    "Changes column name to properly merge title_basics with movie_gross. Drops unessecary column and merges titles_basics, title_ratings, and movie_gross. "
   ]
  },
  {
   "cell_type": "code",
   "execution_count": 3,
   "metadata": {},
   "outputs": [],
   "source": [
    "title_basics.rename(columns={'primary_title':'title'}, inplace=True)\n",
    "title_basics.drop(columns='original_title', inplace=True) \n",
    "movies = pd.merge(movie_gross, title_basics)\n",
    "movies = pd.merge(movies, title_ratings)"
   ]
  },
  {
   "cell_type": "markdown",
   "metadata": {},
   "source": [
    "Drops duplicate titles and replaces missing values in foreign_gross with 0"
   ]
  },
  {
   "cell_type": "code",
   "execution_count": null,
   "metadata": {},
   "outputs": [],
   "source": [
    "movies.drop_duplicates('title', inplace=True)\n",
    "movies['foreign_gross'].fillna(0, inplace=True)"
   ]
  },
  {
   "cell_type": "markdown",
   "metadata": {},
   "source": [
    "Cleans up any number in the column foreign_gross that has commas in it"
   ]
  },
  {
   "cell_type": "code",
   "execution_count": null,
   "metadata": {},
   "outputs": [],
   "source": [
    "movies.foreign_gross = movies.foreign_gross.astype(str)\n",
    "movies.foreign_gross = movies.foreign_gross.map(lambda x : x.replace(',', ''))\n",
    "movies.foreign_gross = movies.foreign_gross.astype(float)"
   ]
  },
  {
   "cell_type": "markdown",
   "metadata": {},
   "source": [
    "Adds domestic_gross and foreign_gross to have a total_gross. Then drops any NA values left in movies"
   ]
  },
  {
   "cell_type": "code",
   "execution_count": null,
   "metadata": {},
   "outputs": [],
   "source": [
    "movies['total_gross'] = movies['domestic_gross'] + movies['foreign_gross']\n",
    "movies.dropna(inplace=True)"
   ]
  },
  {
   "cell_type": "markdown",
   "metadata": {},
   "source": [
    "Asigns which movies will be dropped and merges title_ratings and title_basics to form titles"
   ]
  },
  {
   "cell_type": "code",
   "execution_count": 4,
   "metadata": {},
   "outputs": [],
   "source": [
    "bad_movies = movies[movies['total_gross']<100000000]\n",
    "titles = pd.merge(title_ratings, title_basics, on='tconst')"
   ]
  },
  {
   "cell_type": "markdown",
   "metadata": {},
   "source": [
    "Creates a dictionary that counts how many movies are in each genre and then sorts it."
   ]
  },
  {
   "cell_type": "code",
   "execution_count": null,
   "metadata": {},
   "outputs": [],
   "source": [
    "dic = {}\n",
    "for genre in titles.genres.unique():\n",
    "    dic[genre] = 0\n",
    "for genre in titles.genres:\n",
    "    for key in dic:\n",
    "        if key == genre:\n",
    "            dic[key] += 1\n",
    "sorted_dic = sorted(dic.items(), key=lambda x: x[1], reverse = True)"
   ]
  },
  {
   "cell_type": "markdown",
   "metadata": {},
   "source": [
    "Isolates which genres have less than 10 movies"
   ]
  },
  {
   "cell_type": "code",
   "execution_count": null,
   "metadata": {},
   "outputs": [],
   "source": [
    "bad_genres = []\n",
    "for k in dic:\n",
    "    if dic[k] < 10:\n",
    "        bad_genres.append(k)"
   ]
  },
  {
   "cell_type": "markdown",
   "metadata": {},
   "source": [
    "Isolates every genre but those that have over 500 movies "
   ]
  },
  {
   "cell_type": "code",
   "execution_count": null,
   "metadata": {},
   "outputs": [],
   "source": [
    "all_but_good_genres = []\n",
    "for k in dic:\n",
    "    if dic[k] < 500:\n",
    "        all_but_good_genres.append(k)"
   ]
  },
  {
   "cell_type": "markdown",
   "metadata": {},
   "source": [
    "Iterates though sorted_dic to only pull out genres with 10 or more movies"
   ]
  },
  {
   "cell_type": "code",
   "execution_count": null,
   "metadata": {},
   "outputs": [],
   "source": [
    "new_dic = {}\n",
    "for k, v in sorted_dic:\n",
    "    if v >= 10:\n",
    "        new_dic[k] = v"
   ]
  },
  {
   "cell_type": "markdown",
   "metadata": {},
   "source": [
    "Iterates through new_dic to asign numerical value to each genre for titles_genre_dic"
   ]
  },
  {
   "cell_type": "code",
   "execution_count": 9,
   "metadata": {},
   "outputs": [],
   "source": [
    "count = 0\n",
    "titles_genre_dic = {}\n",
    "for k in new_dic:\n",
    "    count += 1\n",
    "    titles_genre_dic[k] = count"
   ]
  },
  {
   "cell_type": "markdown",
   "metadata": {},
   "source": [
    "Iterates through new_dic to asign numerical value to each genre for movie_genre_dic"
   ]
  },
  {
   "cell_type": "code",
   "execution_count": 8,
   "metadata": {},
   "outputs": [],
   "source": [
    "count = 0\n",
    "movie_genre_dic = {}\n",
    "for k in new_dic:\n",
    "    count += 1\n",
    "    movie_genre_dic[k] = count"
   ]
  },
  {
   "cell_type": "markdown",
   "metadata": {},
   "source": [
    "***\n",
    "* Drops duplicate titles\n",
    "* Drops genres that have less than 10 movies and asigns to cleaned_titles\n",
    "* Drops genres that have less than 500 movies and asigns to good_genre_titles\n",
    "***"
   ]
  },
  {
   "cell_type": "code",
   "execution_count": null,
   "metadata": {},
   "outputs": [],
   "source": [
    "titles.drop_duplicates(inplace=True)\n",
    "cleaned_titles = titles.set_index('genres').drop(bad_genres).reset_index()\n",
    "cleaned_titles['genres_num'] = cleaned_titles['genres']\n",
    "good_genre_titles = titles.set_index('genres').drop(all_but_good_genres).reset_index()\n",
    "good_genre_titles['genres_num'] = good_genre_titles.genres"
   ]
  },
  {
   "cell_type": "markdown",
   "metadata": {},
   "source": [
    "Asigns a numerical value to each genre in order to more easily graph"
   ]
  },
  {
   "cell_type": "code",
   "execution_count": 15,
   "metadata": {},
   "outputs": [
    {
     "name": "stderr",
     "output_type": "stream",
     "text": [
      "<ipython-input-15-a4ec2691501d>:4: SettingWithCopyWarning: \n",
      "A value is trying to be set on a copy of a slice from a DataFrame\n",
      "\n",
      "See the caveats in the documentation: https://pandas.pydata.org/pandas-docs/stable/user_guide/indexing.html#returning-a-view-versus-a-copy\n",
      "  cleaned_titles.genres_num[i] = titles_genre_dic[k]\n",
      "<ipython-input-15-a4ec2691501d>:8: SettingWithCopyWarning: \n",
      "A value is trying to be set on a copy of a slice from a DataFrame\n",
      "\n",
      "See the caveats in the documentation: https://pandas.pydata.org/pandas-docs/stable/user_guide/indexing.html#returning-a-view-versus-a-copy\n",
      "  good_genre_titles.genres_num[i] = movie_genre_dic[k]\n"
     ]
    }
   ],
   "source": [
    "for k in titles_genre_dic: \n",
    "    for i in list(range(0, len(cleaned_titles.genres_num))):\n",
    "        if cleaned_titles.genres_num[i] == k:\n",
    "            cleaned_titles.genres_num[i] = titles_genre_dic[k]\n",
    "for k in movie_genre_dic:\n",
    "    for i in list(range(0, len(good_genre_titles.genres_num))):\n",
    "        if good_genre_titles.genres_num[i] == k:\n",
    "            good_genre_titles.genres_num[i] = movie_genre_dic[k]"
   ]
  },
  {
   "cell_type": "markdown",
   "metadata": {},
   "source": [
    "## Data Modeling\n",
    "Describe and justify the process for analyzing or modeling the data.\n",
    "***\n",
    "* I broke the data down to amount grossed vs average rating to find that there is a positive correlation. Then found which genres had the highest rating as well as which genres were most frequently made.\n",
    "* I removed all the movies that didn't make a lot of money. I started with 100,000 and quickly raised it to only movies that made over 100,000,000. I did this to more appropriatly visualize the data.\n",
    "***"
   ]
  },
  {
   "cell_type": "markdown",
   "metadata": {},
   "source": [
    "Found that on average, the higher rating a movie recieves the more money it makes."
   ]
  },
  {
   "cell_type": "code",
   "execution_count": 54,
   "metadata": {
    "scrolled": false
   },
   "outputs": [
    {
     "data": {
      "image/png": "[encoded data removed]",
      "text/plain": [
       "<Figure size 360x360 with 1 Axes>"
      ]
     },
     "metadata": {
      "needs_background": "light"
     },
     "output_type": "display_data"
    }
   ],
   "source": [
    "sns.lmplot(x='averagerating', y='total_gross', data=movies.drop(bad_movies.index))\\\n",
    ".set(xlabel='Average Rating', ylabel='Amout Grossed', title='Amount Grossed VS Average Rating')\n",
    "plt.savefig('images/Total_grossed_vs_Average_Rating.png',dpi=300, bbox_inches = \"tight\")\n",
    "plt.show()"
   ]
  },
  {
   "cell_type": "markdown",
   "metadata": {},
   "source": [
    "Found that the four genres that have the highest average rating are Documentary or a subcategory of Documentary. Also to note is that Horror and the two subcategories have the lowest three average ratings."
   ]
  },
  {
   "cell_type": "code",
   "execution_count": 46,
   "metadata": {},
   "outputs": [
    {
     "data": {
      "text/html": [
       "<div>\n",
       "<style scoped>\n",
       "    .dataframe tbody tr th:only-of-type {\n",
       "        vertical-align: middle;\n",
       "    }\n",
       "\n",
       "    .dataframe tbody tr th {\n",
       "        vertical-align: top;\n",
       "    }\n",
       "\n",
       "    .dataframe thead th {\n",
       "        text-align: right;\n",
       "    }\n",
       "</style>\n",
       "<table border=\"1\" class=\"dataframe\">\n",
       "  <thead>\n",
       "    <tr style=\"text-align: right;\">\n",
       "      <th></th>\n",
       "      <th>genres</th>\n",
       "      <th>averagerating</th>\n",
       "    </tr>\n",
       "  </thead>\n",
       "  <tbody>\n",
       "    <tr>\n",
       "      <th>11</th>\n",
       "      <td>Documentary,Music</td>\n",
       "      <td>7.478756</td>\n",
       "    </tr>\n",
       "    <tr>\n",
       "      <th>10</th>\n",
       "      <td>Documentary,Drama</td>\n",
       "      <td>7.332818</td>\n",
       "    </tr>\n",
       "    <tr>\n",
       "      <th>9</th>\n",
       "      <td>Documentary</td>\n",
       "      <td>7.293794</td>\n",
       "    </tr>\n",
       "    <tr>\n",
       "      <th>2</th>\n",
       "      <td>Biography,Documentary</td>\n",
       "      <td>7.221758</td>\n",
       "    </tr>\n",
       "    <tr>\n",
       "      <th>12</th>\n",
       "      <td>Drama</td>\n",
       "      <td>6.494265</td>\n",
       "    </tr>\n",
       "    <tr>\n",
       "      <th>4</th>\n",
       "      <td>Comedy,Drama</td>\n",
       "      <td>6.364119</td>\n",
       "    </tr>\n",
       "    <tr>\n",
       "      <th>13</th>\n",
       "      <td>Drama,Romance</td>\n",
       "      <td>6.294305</td>\n",
       "    </tr>\n",
       "    <tr>\n",
       "      <th>5</th>\n",
       "      <td>Comedy,Drama,Romance</td>\n",
       "      <td>6.292467</td>\n",
       "    </tr>\n",
       "    <tr>\n",
       "      <th>8</th>\n",
       "      <td>Crime,Drama,Thriller</td>\n",
       "      <td>6.128968</td>\n",
       "    </tr>\n",
       "    <tr>\n",
       "      <th>14</th>\n",
       "      <td>Drama,Thriller</td>\n",
       "      <td>6.118485</td>\n",
       "    </tr>\n",
       "    <tr>\n",
       "      <th>17</th>\n",
       "      <td>Romance</td>\n",
       "      <td>6.051883</td>\n",
       "    </tr>\n",
       "    <tr>\n",
       "      <th>1</th>\n",
       "      <td>Action,Crime,Drama</td>\n",
       "      <td>5.989146</td>\n",
       "    </tr>\n",
       "    <tr>\n",
       "      <th>7</th>\n",
       "      <td>Comedy,Romance</td>\n",
       "      <td>5.845631</td>\n",
       "    </tr>\n",
       "    <tr>\n",
       "      <th>3</th>\n",
       "      <td>Comedy</td>\n",
       "      <td>5.777998</td>\n",
       "    </tr>\n",
       "    <tr>\n",
       "      <th>0</th>\n",
       "      <td>Action</td>\n",
       "      <td>5.757712</td>\n",
       "    </tr>\n",
       "    <tr>\n",
       "      <th>18</th>\n",
       "      <td>Thriller</td>\n",
       "      <td>5.704244</td>\n",
       "    </tr>\n",
       "    <tr>\n",
       "      <th>6</th>\n",
       "      <td>Comedy,Horror</td>\n",
       "      <td>5.155959</td>\n",
       "    </tr>\n",
       "    <tr>\n",
       "      <th>15</th>\n",
       "      <td>Horror</td>\n",
       "      <td>4.835475</td>\n",
       "    </tr>\n",
       "    <tr>\n",
       "      <th>16</th>\n",
       "      <td>Horror,Thriller</td>\n",
       "      <td>4.811554</td>\n",
       "    </tr>\n",
       "  </tbody>\n",
       "</table>\n",
       "</div>"
      ],
      "text/plain": [
       "                   genres  averagerating\n",
       "11      Documentary,Music       7.478756\n",
       "10      Documentary,Drama       7.332818\n",
       "9             Documentary       7.293794\n",
       "2   Biography,Documentary       7.221758\n",
       "12                  Drama       6.494265\n",
       "4            Comedy,Drama       6.364119\n",
       "13          Drama,Romance       6.294305\n",
       "5    Comedy,Drama,Romance       6.292467\n",
       "8    Crime,Drama,Thriller       6.128968\n",
       "14         Drama,Thriller       6.118485\n",
       "17                Romance       6.051883\n",
       "1      Action,Crime,Drama       5.989146\n",
       "7          Comedy,Romance       5.845631\n",
       "3                  Comedy       5.777998\n",
       "0                  Action       5.757712\n",
       "18               Thriller       5.704244\n",
       "6           Comedy,Horror       5.155959\n",
       "15                 Horror       4.835475\n",
       "16        Horror,Thriller       4.811554"
      ]
     },
     "execution_count": 46,
     "metadata": {},
     "output_type": "execute_result"
    }
   ],
   "source": [
    "to_drop = ['numvotes', 'start_year', 'runtime_minutes']\n",
    "good_genre_titles.groupby('genres').mean().reset_index()\\\n",
    ".sort_values('averagerating', ascending=False).drop(to_drop, axis=1)"
   ]
  },
  {
   "cell_type": "markdown",
   "metadata": {},
   "source": [
    "Found that Dramas and Documentaries are significantly more frequent than the rest of the genres."
   ]
  },
  {
   "cell_type": "code",
   "execution_count": 52,
   "metadata": {
    "scrolled": false
   },
   "outputs": [
    {
     "data": {
      "image/png": "[encoded data removed]",
      "text/plain": [
       "<Figure size 432x288 with 1 Axes>"
      ]
     },
     "metadata": {
      "needs_background": "light"
     },
     "output_type": "display_data"
    }
   ],
   "source": [
    "sns.countplot(x='genres', data=good_genre_titles)\\\n",
    ".set(xlabel='Genres', ylabel='Num of Movies', title='How Many Movies per Genre')\n",
    "plt.xticks(rotation=90);\n",
    "plt.savefig('images/Num_movies_per_genre.png',dpi=300, bbox_inches = \"tight\")\n",
    "plt.show()"
   ]
  },
  {
   "cell_type": "markdown",
   "metadata": {},
   "source": [
    "Visulization to better see the distribution of genres by average rating."
   ]
  },
  {
   "cell_type": "code",
   "execution_count": 50,
   "metadata": {},
   "outputs": [
    {
     "data": {
      "image/png": "[encoded data removed]",
      "text/plain": [
       "<Figure size 432x288 with 1 Axes>"
      ]
     },
     "metadata": {
      "needs_background": "light"
     },
     "output_type": "display_data"
    }
   ],
   "source": [
    "sns.boxplot(x=\"genres\", y=\"averagerating\", data=good_genre_titles)\\\n",
    ".set(xlabel='Genres', ylabel='Average Rating', title='Distribution of Genres by Average Rating')\n",
    "plt.xticks(rotation=90);\n",
    "plt.savefig('images/average_ratings_per_genre.png',dpi=300, bbox_inches = \"tight\")\n",
    "plt.show()"
   ]
  },
  {
   "cell_type": "markdown",
   "metadata": {},
   "source": [
    "Merged good_genre_titles and movies so I only have 19 genres to evaluate total_grossed\n",
    "* Note: This does shrink the amount of data by a significant margin"
   ]
  },
  {
   "cell_type": "code",
   "execution_count": 29,
   "metadata": {},
   "outputs": [],
   "source": [
    "good_genre_movies = pd.merge(movies, good_genre_titles)\n",
    "meanByGenre = good_genre_movies.groupby(['genres']).mean()\n",
    "grouped = meanByGenre.reset_index().sort_values('total_gross', ascending=False)"
   ]
  },
  {
   "cell_type": "markdown",
   "metadata": {},
   "source": [
    "Found that even though Horrors receive the lowest average rating, they remain an outlier as the highest grossing genre on average."
   ]
  },
  {
   "cell_type": "code",
   "execution_count": 49,
   "metadata": {},
   "outputs": [
    {
     "data": {
      "image/png": "[encoded data removed]",
      "text/plain": [
       "<Figure size 432x288 with 1 Axes>"
      ]
     },
     "metadata": {
      "needs_background": "light"
     },
     "output_type": "display_data"
    }
   ],
   "source": [
    "sns.boxplot(x=\"genres\", y=\"total_gross\", data=good_genre_movies)\\\n",
    ".set(xlabel='Genres', ylabel='Total Grossed', title='Total Grossed in each genre')\n",
    "plt.xticks(rotation=90);\n",
    "plt.savefig('images/total_grossed_per_genre.png',dpi=300, bbox_inches = \"tight\")\n",
    "plt.show()"
   ]
  },
  {
   "cell_type": "markdown",
   "metadata": {},
   "source": [
    "Table to more easily interpret the data"
   ]
  },
  {
   "cell_type": "code",
   "execution_count": 41,
   "metadata": {},
   "outputs": [
    {
     "data": {
      "text/html": [
       "<div>\n",
       "<style scoped>\n",
       "    .dataframe tbody tr th:only-of-type {\n",
       "        vertical-align: middle;\n",
       "    }\n",
       "\n",
       "    .dataframe tbody tr th {\n",
       "        vertical-align: top;\n",
       "    }\n",
       "\n",
       "    .dataframe thead th {\n",
       "        text-align: right;\n",
       "    }\n",
       "</style>\n",
       "<table border=\"1\" class=\"dataframe\">\n",
       "  <thead>\n",
       "    <tr style=\"text-align: right;\">\n",
       "      <th></th>\n",
       "      <th>genres</th>\n",
       "      <th>averagerating</th>\n",
       "      <th>total_gross</th>\n",
       "    </tr>\n",
       "  </thead>\n",
       "  <tbody>\n",
       "    <tr>\n",
       "      <th>15</th>\n",
       "      <td>Horror</td>\n",
       "      <td>5.269231</td>\n",
       "      <td>5.671794e+07</td>\n",
       "    </tr>\n",
       "    <tr>\n",
       "      <th>3</th>\n",
       "      <td>Comedy</td>\n",
       "      <td>5.762338</td>\n",
       "      <td>5.657047e+07</td>\n",
       "    </tr>\n",
       "    <tr>\n",
       "      <th>7</th>\n",
       "      <td>Comedy,Romance</td>\n",
       "      <td>6.037500</td>\n",
       "      <td>5.020703e+07</td>\n",
       "    </tr>\n",
       "    <tr>\n",
       "      <th>1</th>\n",
       "      <td>Action,Crime,Drama</td>\n",
       "      <td>6.672093</td>\n",
       "      <td>4.827720e+07</td>\n",
       "    </tr>\n",
       "    <tr>\n",
       "      <th>16</th>\n",
       "      <td>Horror,Thriller</td>\n",
       "      <td>5.340909</td>\n",
       "      <td>4.821455e+07</td>\n",
       "    </tr>\n",
       "    <tr>\n",
       "      <th>6</th>\n",
       "      <td>Comedy,Horror</td>\n",
       "      <td>5.600000</td>\n",
       "      <td>3.265900e+07</td>\n",
       "    </tr>\n",
       "    <tr>\n",
       "      <th>5</th>\n",
       "      <td>Comedy,Drama,Romance</td>\n",
       "      <td>6.345161</td>\n",
       "      <td>2.575589e+07</td>\n",
       "    </tr>\n",
       "    <tr>\n",
       "      <th>18</th>\n",
       "      <td>Thriller</td>\n",
       "      <td>5.477778</td>\n",
       "      <td>2.522393e+07</td>\n",
       "    </tr>\n",
       "    <tr>\n",
       "      <th>14</th>\n",
       "      <td>Drama,Thriller</td>\n",
       "      <td>6.445455</td>\n",
       "      <td>2.495701e+07</td>\n",
       "    </tr>\n",
       "    <tr>\n",
       "      <th>8</th>\n",
       "      <td>Crime,Drama,Thriller</td>\n",
       "      <td>6.688889</td>\n",
       "      <td>2.422652e+07</td>\n",
       "    </tr>\n",
       "    <tr>\n",
       "      <th>13</th>\n",
       "      <td>Drama,Romance</td>\n",
       "      <td>6.701000</td>\n",
       "      <td>2.358461e+07</td>\n",
       "    </tr>\n",
       "    <tr>\n",
       "      <th>4</th>\n",
       "      <td>Comedy,Drama</td>\n",
       "      <td>6.567769</td>\n",
       "      <td>2.263455e+07</td>\n",
       "    </tr>\n",
       "    <tr>\n",
       "      <th>0</th>\n",
       "      <td>Action</td>\n",
       "      <td>6.100000</td>\n",
       "      <td>2.174761e+07</td>\n",
       "    </tr>\n",
       "    <tr>\n",
       "      <th>17</th>\n",
       "      <td>Romance</td>\n",
       "      <td>5.620000</td>\n",
       "      <td>1.678920e+07</td>\n",
       "    </tr>\n",
       "    <tr>\n",
       "      <th>11</th>\n",
       "      <td>Documentary,Music</td>\n",
       "      <td>7.123077</td>\n",
       "      <td>1.450779e+07</td>\n",
       "    </tr>\n",
       "    <tr>\n",
       "      <th>12</th>\n",
       "      <td>Drama</td>\n",
       "      <td>6.690135</td>\n",
       "      <td>1.089664e+07</td>\n",
       "    </tr>\n",
       "    <tr>\n",
       "      <th>9</th>\n",
       "      <td>Documentary</td>\n",
       "      <td>7.230864</td>\n",
       "      <td>1.072248e+07</td>\n",
       "    </tr>\n",
       "    <tr>\n",
       "      <th>2</th>\n",
       "      <td>Biography,Documentary</td>\n",
       "      <td>7.200000</td>\n",
       "      <td>5.775214e+05</td>\n",
       "    </tr>\n",
       "    <tr>\n",
       "      <th>10</th>\n",
       "      <td>Documentary,Drama</td>\n",
       "      <td>7.700000</td>\n",
       "      <td>2.530000e+05</td>\n",
       "    </tr>\n",
       "  </tbody>\n",
       "</table>\n",
       "</div>"
      ],
      "text/plain": [
       "                   genres  averagerating   total_gross\n",
       "15                 Horror       5.269231  5.671794e+07\n",
       "3                  Comedy       5.762338  5.657047e+07\n",
       "7          Comedy,Romance       6.037500  5.020703e+07\n",
       "1      Action,Crime,Drama       6.672093  4.827720e+07\n",
       "16        Horror,Thriller       5.340909  4.821455e+07\n",
       "6           Comedy,Horror       5.600000  3.265900e+07\n",
       "5    Comedy,Drama,Romance       6.345161  2.575589e+07\n",
       "18               Thriller       5.477778  2.522393e+07\n",
       "14         Drama,Thriller       6.445455  2.495701e+07\n",
       "8    Crime,Drama,Thriller       6.688889  2.422652e+07\n",
       "13          Drama,Romance       6.701000  2.358461e+07\n",
       "4            Comedy,Drama       6.567769  2.263455e+07\n",
       "0                  Action       6.100000  2.174761e+07\n",
       "17                Romance       5.620000  1.678920e+07\n",
       "11      Documentary,Music       7.123077  1.450779e+07\n",
       "12                  Drama       6.690135  1.089664e+07\n",
       "9             Documentary       7.230864  1.072248e+07\n",
       "2   Biography,Documentary       7.200000  5.775214e+05\n",
       "10      Documentary,Drama       7.700000  2.530000e+05"
      ]
     },
     "execution_count": 41,
     "metadata": {},
     "output_type": "execute_result"
    }
   ],
   "source": [
    "to_drop = ['domestic_gross', 'foreign_gross', 'year', 'start_year', 'runtime_minutes', 'numvotes']\n",
    "grouped.drop(to_drop, axis=1)"
   ]
  },
  {
   "cell_type": "markdown",
   "metadata": {},
   "source": [
    "## Results\n",
    "\n",
    "***\n",
    "* On average, the higher rating a movie gets the more money it makes. \n",
    "* I have found that Documentaries recieve the highest ratings on average.\n",
    "* Dramas and Documentaries are the most frequent genres by a significant margin.\n",
    "* Horror movies stand out due to it recieving the lowest average ratings but still making the most money.\n",
    "***"
   ]
  },
  {
   "cell_type": "markdown",
   "metadata": {},
   "source": [
    "## Conclusions\n",
    "\n",
    "***\n",
    "* Microsoft should enter the movie industry with a Documentary or Horror film. \n",
    "* Documentaries are the second most frequent genre and the highest average rating. Due to the fact that on average the higher rating a movie receives the more money it makes, Documentaries would be a perfect starting block to enter the movie industry. \n",
    "* Horrors stand out because even though they do receive a very low average rating they also has the highest average total grossed.\n",
    "* There are many more factors that go into a money making movie such as which actors and/or directors help the movie make the most money. In order to more accurately predict one would have to answer such questions.\n",
    "***"
   ]
  }
 ],
 "metadata": {
  "kernelspec": {
   "display_name": "Python 3",
   "language": "python",
   "name": "python3"
  },
  "language_info": {
   "codemirror_mode": {
    "name": "ipython",
    "version": 3
   },
   "file_extension": ".py",
   "mimetype": "text/x-python",
   "name": "python",
   "nbconvert_exporter": "python",
   "pygments_lexer": "ipython3",
   "version": "3.8.5"
  }
 },
 "nbformat": 4,
 "nbformat_minor": 4
}
